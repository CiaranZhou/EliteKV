{
 "cells": [
  {
   "cell_type": "code",
   "execution_count": null,
   "metadata": {},
   "outputs": [],
   "source": [
    "# load data\n",
    "import os\n",
    "import pickle\n",
    "\n",
    "folder_path = \"../dimension_allocation/result\"\n",
    "prefix = \"Llama\"\n",
    "suffix = \".pkl\"\n",
    "\n",
    "def find_pkl_files(folder_path, prefix, suffix):\n",
    "    pkl_files = [f for f in os.listdir(folder_path) if f.startswith(prefix) and f.endswith(suffix)]\n",
    "    return pkl_files\n",
    "result = find_pkl_files(folder_path, prefix, suffix)\n",
    "\n",
    "new_ppl = {}\n",
    "for file_name in result:\n",
    "    file_path = os.path.join(folder_path, file_name)\n",
    "    with open(file_path, 'rb') as file:\n",
    "        loaded_data = pickle.load(file)\n",
    "    for rope_dim in loaded_data.keys():\n",
    "        new_ppl[rope_dim] = loaded_data[rope_dim]\n",
    "\n",
    "new_ppl = dict(sorted(new_ppl.items()))\n"
   ]
  },
  {
   "cell_type": "code",
   "execution_count": null,
   "metadata": {},
   "outputs": [],
   "source": [
    "# kv_cache - ppl || kv_cache - rope_dim&lora_dim(kv_dim)\n",
    "import numpy as np\n",
    "import matplotlib.pyplot as plt\n",
    "import math\n",
    "\n",
    "start = 1\n",
    "step = 4\n",
    "end = 2\n",
    "head_num = 32\n",
    "\n",
    "data = {}\n",
    "for rope_dim in range(start, end, step):\n",
    "    data[rope_dim] = {}\n",
    "    for lora_dim in new_ppl[rope_dim].keys():\n",
    "        data[rope_dim][lora_dim + rope_dim*2*head_num] = new_ppl[rope_dim][lora_dim]\n",
    "\n",
    "colors = plt.cm.viridis(np.linspace(0, 1, math.ceil((end-start)/step)))\n",
    "\n",
    "plt.figure(figsize=(12, 6), dpi=500)\n",
    "for idx, (rope_dim, lora_ppl) in enumerate(data.items()):\n",
    "    x_values = list(lora_ppl.keys())\n",
    "    y_values = list(lora_ppl.values())\n",
    "    plt.plot(x_values, y_values, color=colors[idx], label=f\"{rope_dim}\")\n",
    "\n",
    "plt.xlabel(f\"kv_cache\")\n",
    "plt.ylabel(f\"ppl\")\n",
    "plt.grid(True, linestyle='--', alpha=0.5)\n",
    "plt.title(\"performance of different dimension allocation\")\n",
    "\n",
    "plt.legend(title='number of chunks', loc=\"upper left\", bbox_to_anchor=(1, 1))\n",
    "plt.show()"
   ]
  }
 ],
 "metadata": {
  "kernelspec": {
   "display_name": "mla",
   "language": "python",
   "name": "python3"
  },
  "language_info": {
   "codemirror_mode": {
    "name": "ipython",
    "version": 3
   },
   "file_extension": ".py",
   "mimetype": "text/x-python",
   "name": "python",
   "nbconvert_exporter": "python",
   "pygments_lexer": "ipython3",
   "version": "3.10.14"
  }
 },
 "nbformat": 4,
 "nbformat_minor": 2
}
